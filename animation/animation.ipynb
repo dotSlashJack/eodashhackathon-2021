{
 "cells": [
  {
   "cell_type": "markdown",
   "id": "bf23f84f-62e7-437d-9fdc-004a7a1d3236",
   "metadata": {},
   "source": [
    "# Generate a GIF from images\n",
    "\n",
    "Author: J. Hester\n",
    "\n",
    "6/27/2021\n",
    "\n",
    "EO Dashboard Hackathon"
   ]
  },
  {
   "cell_type": "code",
   "execution_count": 17,
   "id": "3881f4d5-c695-4fe9-a3f2-d32ff3d6c5d6",
   "metadata": {},
   "outputs": [],
   "source": [
    "import imageio\n",
    "import os\n",
    "from PIL import Image"
   ]
  },
  {
   "cell_type": "markdown",
   "id": "23411228-4a4b-4aff-86d6-96570842cfad",
   "metadata": {},
   "source": [
    "### Configure paths"
   ]
  },
  {
   "cell_type": "code",
   "execution_count": 19,
   "id": "dcd88e04-6e06-48a8-9260-8a557ac6a15b",
   "metadata": {},
   "outputs": [],
   "source": [
    "# use commented out values for true color\n",
    "img_dir = 'wq_images' # path to images used in animation\n",
    "#img_dir = 'tc_images'\n",
    "gif_name = 'wq_timeseries.gif' # what to name the gif, optionally include a path\n",
    "#gif_name = \"tc_timeseries.gif\"\n",
    "img_extension = '.tiff' # extension of image types to look for\n",
    "#img_extension = '.png'\n",
    "\n",
    "checkImages = True # if true, tries to remove images with missing/incomplete data for that day. If false leaves 'blank' frames in"
   ]
  },
  {
   "cell_type": "markdown",
   "id": "8e8e6756-e742-4822-b8c7-b9ed291682f8",
   "metadata": {},
   "source": [
    "### Configure animation options"
   ]
  },
  {
   "cell_type": "code",
   "execution_count": 20,
   "id": "9672dea4-e146-4d56-9b12-6d2cfe048332",
   "metadata": {},
   "outputs": [],
   "source": [
    "speed = 1.5 # number of seconds to show each frame of the animation"
   ]
  },
  {
   "cell_type": "markdown",
   "id": "9b3bf784-cec7-4806-8d2a-f52270ea0576",
   "metadata": {},
   "source": [
    "### Generate the GIF"
   ]
  },
  {
   "cell_type": "code",
   "execution_count": 21,
   "id": "d739278b-a7da-483c-a92d-d69adc72f69e",
   "metadata": {},
   "outputs": [],
   "source": [
    "images = []\n",
    "for file_name in sorted(os.listdir(img_dir)): # ignore everything that's not of defined image type\n",
    "    if file_name.endswith(img_extension):\n",
    "        file_path = os.path.join(img_dir, file_name)\n",
    "        if checkImages:\n",
    "            i = Image.open(file_path)\n",
    "            clrs = i.getcolors()\n",
    "            if clrs == None: # means there are >256\n",
    "                images.append(imageio.imread(file_path))\n",
    "        else:\n",
    "            images.append(imageio.imread(file_path))\n",
    "imageio.mimsave(gif_name, images, duration=speed)"
   ]
  },
  {
   "cell_type": "code",
   "execution_count": null,
   "id": "3a84e149-d342-46aa-96d5-0b53057f035c",
   "metadata": {},
   "outputs": [],
   "source": []
  }
 ],
 "metadata": {
  "kernelspec": {
   "display_name": "EDC 0.24.5 (Python3)",
   "language": "python",
   "name": "edc"
  },
  "language_info": {
   "codemirror_mode": {
    "name": "ipython",
    "version": 3
   },
   "file_extension": ".py",
   "mimetype": "text/x-python",
   "name": "python",
   "nbconvert_exporter": "python",
   "pygments_lexer": "ipython3",
   "version": "3.8.10"
  }
 },
 "nbformat": 4,
 "nbformat_minor": 5
}
