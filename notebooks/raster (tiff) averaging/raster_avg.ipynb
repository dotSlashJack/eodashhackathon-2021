{
 "cells": [
  {
   "cell_type": "markdown",
   "id": "b775d194-0c3a-413a-98fe-2b3e7b121f3e",
   "metadata": {},
   "source": [
    "# Get the average value of a raster image\n",
    "\n",
    "Author: J. Hester\n",
    "\n",
    "6/28/2021\n",
    "\n",
    "EO Dashboard Hackathon"
   ]
  },
  {
   "cell_type": "code",
   "execution_count": 39,
   "id": "ca69b0ac-e446-4a27-bf93-fdf3faf2b63c",
   "metadata": {},
   "outputs": [],
   "source": [
    "import rasterio\n",
    "import numpy as np\n",
    "import pandas as pd\n",
    "import os"
   ]
  },
  {
   "cell_type": "markdown",
   "id": "54e6c3cd-f2bc-4f71-908c-5dd454f6387c",
   "metadata": {},
   "source": [
    "### Configuration"
   ]
  },
  {
   "cell_type": "code",
   "execution_count": 40,
   "id": "0ed387f0-455c-455d-a06a-5b30ca1e0a63",
   "metadata": {},
   "outputs": [],
   "source": [
    "tiff_dir = 'wq_images' # path to raster (tiff) files used for analysis"
   ]
  },
  {
   "cell_type": "markdown",
   "id": "a64eebc5-47d4-46fe-ab08-1e77f3427f2c",
   "metadata": {},
   "source": [
    "### Import tiff files"
   ]
  },
  {
   "cell_type": "code",
   "execution_count": 41,
   "id": "0b021e3b-f7f2-4678-a991-5a6e1b234290",
   "metadata": {},
   "outputs": [],
   "source": [
    "rasters = []\n",
    "for file_name in sorted(os.listdir(tiff_dir)):\n",
    "    if file_name.endswith(\".tiff\"):\n",
    "        file_path = os.path.join(tiff_dir, file_name)\n",
    "        rasters.append(file_path)"
   ]
  },
  {
   "cell_type": "code",
   "execution_count": 42,
   "id": "0c758c35-e506-46a4-accd-8f1cd05a8c81",
   "metadata": {},
   "outputs": [],
   "source": [
    "def read(file):\n",
    "    with rasterio.open(file) as f:\n",
    "        return(f.read(1))"
   ]
  },
  {
   "cell_type": "markdown",
   "id": "e7631ec4-5d77-40fa-8403-781828b34de6",
   "metadata": {},
   "source": [
    "### Get mean value by file"
   ]
  },
  {
   "cell_type": "markdown",
   "id": "162c2b9a-cc27-4d69-a64d-9f04d9cd5784",
   "metadata": {},
   "source": [
    "NOTE: These are average values for the image, NOT the raw data, i.e. these are not the true units. See https://docs.sentinel-hub.com/api/latest/data/sentinel-3-olci-l1b/ for more information on the data behind the rasters"
   ]
  },
  {
   "cell_type": "code",
   "execution_count": 43,
   "id": "c21df097-c54d-4f5f-9c4a-b014fec98a0d",
   "metadata": {},
   "outputs": [],
   "source": [
    "arrays = [read(x) for x in rasters]\n",
    "mean_list = []\n",
    "for i, array in enumerate(arrays):\n",
    "    mean_list.append(np.mean(array))\n",
    "    #print(rasters[i], \", mean: \", np.mean(array))\n",
    "#print(rasters)\n",
    "#print(mean_list)"
   ]
  },
  {
   "cell_type": "markdown",
   "id": "a5bda37a-af0b-407e-be82-5c801afd7d76",
   "metadata": {},
   "source": [
    "Save results to a csv"
   ]
  },
  {
   "cell_type": "code",
   "execution_count": 45,
   "id": "8d23dc9f-e175-4388-b549-d4f107cdfbde",
   "metadata": {},
   "outputs": [],
   "source": [
    "dates = []\n",
    "for element in rasters:\n",
    "    d1 = element.split(\"map\")[1]\n",
    "    date = d1.split(\".ti\")[0]\n",
    "    dates.append(date)\n",
    "    \n",
    "df = pd.DataFrame({'img': rasters,\n",
    "                   'date': dates,\n",
    "                   'mean_tiff_val': mean_list})\n",
    "df.to_csv('raster_avgs.csv',index=False)"
   ]
  },
  {
   "cell_type": "code",
   "execution_count": null,
   "id": "5dbfc135-79ba-4dbb-a32c-6ac385c0704a",
   "metadata": {},
   "outputs": [],
   "source": []
  }
 ],
 "metadata": {
  "kernelspec": {
   "display_name": "EDC 0.24.5 (Python3)",
   "language": "python",
   "name": "edc"
  },
  "language_info": {
   "codemirror_mode": {
    "name": "ipython",
    "version": 3
   },
   "file_extension": ".py",
   "mimetype": "text/x-python",
   "name": "python",
   "nbconvert_exporter": "python",
   "pygments_lexer": "ipython3",
   "version": "3.8.10"
  }
 },
 "nbformat": 4,
 "nbformat_minor": 5
}
