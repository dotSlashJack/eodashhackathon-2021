{
 "cells": [
  {
   "cell_type": "markdown",
   "id": "bf23f84f-62e7-437d-9fdc-004a7a1d3236",
   "metadata": {},
   "source": [
    "# Generate a GIF from images\n",
    "### EO Dashboard Hackathon 2021\n",
    "### @author Jack Hester"
   ]
  },
  {
   "cell_type": "code",
   "execution_count": 9,
   "id": "3881f4d5-c695-4fe9-a3f2-d32ff3d6c5d6",
   "metadata": {},
   "outputs": [],
   "source": [
    "import imageio\n",
    "import os"
   ]
  },
  {
   "cell_type": "markdown",
   "id": "23411228-4a4b-4aff-86d6-96570842cfad",
   "metadata": {},
   "source": [
    "### Configure paths"
   ]
  },
  {
   "cell_type": "code",
   "execution_count": 10,
   "id": "dcd88e04-6e06-48a8-9260-8a557ac6a15b",
   "metadata": {},
   "outputs": [],
   "source": [
    "img_dir = 'wq_images' # path to images used in animation\n",
    "gif_name = 'wq_timeseries.gif' # what to name the gif, optionally include a path\n",
    "img_extension = '.tiff' # extension of image types to look for"
   ]
  },
  {
   "cell_type": "markdown",
   "id": "8e8e6756-e742-4822-b8c7-b9ed291682f8",
   "metadata": {},
   "source": [
    "### Configure animation options"
   ]
  },
  {
   "cell_type": "code",
   "execution_count": 11,
   "id": "9672dea4-e146-4d56-9b12-6d2cfe048332",
   "metadata": {},
   "outputs": [],
   "source": [
    "speed = 2 # number of seconds to show each frame of the animation"
   ]
  },
  {
   "cell_type": "markdown",
   "id": "9b3bf784-cec7-4806-8d2a-f52270ea0576",
   "metadata": {},
   "source": [
    "### Generate the GIF"
   ]
  },
  {
   "cell_type": "code",
   "execution_count": null,
   "id": "d739278b-a7da-483c-a92d-d69adc72f69e",
   "metadata": {},
   "outputs": [],
   "source": [
    "images = []\n",
    "for file_name in sorted(os.listdir(img_dir)): # ignore everything that's not of defined image type\n",
    "    if file_name.endswith(img_extension):\n",
    "        file_path = os.path.join(img_dir, file_name)\n",
    "        images.append(imageio.imread(file_path))\n",
    "imageio.mimsave(gif_name, images, duration=speed)"
   ]
  },
  {
   "cell_type": "code",
   "execution_count": null,
   "id": "3a84e149-d342-46aa-96d5-0b53057f035c",
   "metadata": {},
   "outputs": [],
   "source": []
  }
 ],
 "metadata": {
  "kernelspec": {
   "display_name": "EDC 0.24.5 (Python3)",
   "language": "python",
   "name": "edc"
  },
  "language_info": {
   "codemirror_mode": {
    "name": "ipython",
    "version": 3
   },
   "file_extension": ".py",
   "mimetype": "text/x-python",
   "name": "python",
   "nbconvert_exporter": "python",
   "pygments_lexer": "ipython3",
   "version": "3.8.10"
  }
 },
 "nbformat": 4,
 "nbformat_minor": 5
}
