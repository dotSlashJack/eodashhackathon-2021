{
 "cells": [
  {
   "cell_type": "markdown",
   "id": "b7887509-a3e1-48f1-9601-21bf2fc6aa3a",
   "metadata": {},
   "source": [
    "# Get true color imagery for water quality data from sentinel 3 ocli\n",
    "\n",
    "Author: J. Hester\n",
    "\n",
    "6/25/2021\n",
    "\n",
    "EO Dashboard Hackathon"
   ]
  },
  {
   "cell_type": "code",
   "execution_count": 36,
   "id": "0f726be4-4ba8-4090-8806-8808a56ac00c",
   "metadata": {},
   "outputs": [],
   "source": [
    "from edc import check_compatibility\n",
    "#check_compatibility(\"user-0.24.5\", dependencies=[\"SH\"])\n",
    "import s3fs\n",
    "import xarray as xr\n",
    "import matplotlib.pyplot as plt\n",
    "import numpy as np\n",
    "import xcube.core.store\n",
    "from xcube.core.dsio import open_cube\n",
    "import nc_time_axis\n",
    "plt.rcParams[\"figure.figsize\"] = 14,8\n",
    "import imageio\n",
    "import os\n",
    "import pandas as pd\n",
    "from oauthlib.oauth2 import BackendApplicationClient\n",
    "from requests_oauthlib import OAuth2Session\n",
    "#from requests_oauthlib import requests\n",
    "import geojson\n",
    "import shapely.wkt\n",
    "import shapely.geometry\n",
    "import IPython.display\n",
    "from sentinelhub import (MimeType, CRS, BBox, SentinelHubRequest, SentinelHubDownloadClient, \n",
    "                         DataCollection, bbox_to_dimensions, DownloadRequest, SHConfig)\n",
    "from osgeo import gdal\n",
    "from PIL import Image"
   ]
  },
  {
   "cell_type": "markdown",
   "id": "257503bb-38d9-4d40-97c1-6ad72dc4c09f",
   "metadata": {},
   "source": [
    "### Configuration"
   ]
  },
  {
   "cell_type": "code",
   "execution_count": 37,
   "id": "178d1591-b90a-4500-8bd8-667c42938a0b",
   "metadata": {},
   "outputs": [],
   "source": [
    "config = SHConfig()\n",
    "config.sh_client_id = os.environ[\"SH_CLIENT_ID\"]\n",
    "config.sh_client_secret = os.environ[\"SH_CLIENT_SECRET\"]"
   ]
  },
  {
   "cell_type": "code",
   "execution_count": 42,
   "id": "5b81cecb-e240-41d7-b510-421611304e05",
   "metadata": {},
   "outputs": [],
   "source": [
    "# Define the plot_image function\n",
    "# param save false to not save iamges or a save name and path\n",
    "# param title the iamge title (embedded inside image)\n",
    "def plot_image(image, factor=1.0, clip_range = None, save=False, title='', **kwargs):\n",
    "    \"\"\"\n",
    "    Utility function for plotting RGB images.\n",
    "    \"\"\"\n",
    "    fig, ax = plt.subplots(nrows=1, ncols=1, figsize=(15, 15))\n",
    "    \n",
    "    extent = [coords_wgs84[0],coords_wgs84[2], coords_wgs84[1], coords_wgs84[3]] # puts the coords in the right place on the output plot\n",
    "    \n",
    "    if clip_range is not None:\n",
    "        #ax.imshow(np.clip(image * factor, *clip_range), **kwargs)\n",
    "        ax.imshow(np.clip(image * factor, *clip_range), origin='upper', extent=extent, interpolation='none')\n",
    "        ax.title.set_text(title)\n",
    "        if save:\n",
    "            ax.figure.savefig(save)\n",
    "    else:\n",
    "        #ax.imshow(image * factor, **kwargs)\n",
    "        ax.imshow(image * factor, origin='lower', extent=extent, interpolation='none')\n",
    "        ax.title.set_text(title)\n",
    "        if save:\n",
    "            ax.figure.savefig(save)\n",
    "    ax.set_xticks([])\n",
    "    ax.set_yticks([])"
   ]
  },
  {
   "cell_type": "markdown",
   "id": "d26c0b58-99c7-400a-b62f-e91b055e153f",
   "metadata": {},
   "source": [
    "### User-specified values"
   ]
  },
  {
   "cell_type": "code",
   "execution_count": 43,
   "id": "7a837225-3469-4450-93f2-870fba3b9812",
   "metadata": {},
   "outputs": [],
   "source": [
    "#set rectangular study area by using coordinates at opposite corners\n",
    "# example is of ise bay\n",
    "coords_wgs84 = [137.01690785604998,34.51149653877783, 136.46484486776873, 35.100097358716525]\n",
    "region_name = 'Ise Bay' # the name of the area your rectangle surrounds to be used in image"
   ]
  },
  {
   "cell_type": "code",
   "execution_count": 44,
   "id": "33ea4df2-bb20-4b56-bcc9-0b58a10dcc5d",
   "metadata": {},
   "outputs": [],
   "source": [
    "resolution = 60 # m resolution size to get\n",
    "betsiboka_bbox = BBox(bbox=coords_wgs84, crs=CRS.WGS84)\n",
    "betsiboka_size = bbox_to_dimensions(betsiboka_bbox, resolution=resolution)"
   ]
  },
  {
   "cell_type": "code",
   "execution_count": 45,
   "id": "4529e2c1-eab6-46f3-958e-267b7e954980",
   "metadata": {},
   "outputs": [],
   "source": [
    "start_images = \"2020-01-01\" # first day to get images\n",
    "end_images = \"2020-06-01\" # last day to get images\n",
    "image_output_dir = \"tc_images\" # where to save the images"
   ]
  },
  {
   "cell_type": "markdown",
   "id": "e362825e-54e4-4e2f-9d68-56944d408b4e",
   "metadata": {},
   "source": [
    "### Generate water quality imagery"
   ]
  },
  {
   "cell_type": "code",
   "execution_count": 46,
   "id": "3e7bed02-c6af-4e0d-92c7-61cdff0c308d",
   "metadata": {},
   "outputs": [],
   "source": [
    "# param save_name the name of the output file, including the extension\n",
    "# param img_title the name of the image (such as location/date) to embed inside\n",
    "def generate_tc_tiffs(save_name, img_title, request_true_color):\n",
    "    color_imgs = request_true_color.get_data()\n",
    "\n",
    "    image_c = color_imgs[0]\n",
    "    plot_image(image_c, factor=3.5/255, clip_range=(0,1), save=save_name, title=img_title)"
   ]
  },
  {
   "cell_type": "markdown",
   "id": "f3245377-f297-4b58-bcff-03541de42a42",
   "metadata": {},
   "source": [
    "B02 = Yellow substance and detrital pigments (turbidity)\n",
    "\n",
    "B04 = Chlorophyll\n",
    "\n",
    "B05 = Chlorophyll, sediment, turbidity, red tide\n",
    "\n",
    "Change these values accordingly in evalscript_wq below. See https://docs.sentinel-hub.com/api/latest/data/sentinel-3-olci-l1b/ for more"
   ]
  },
  {
   "cell_type": "code",
   "execution_count": 47,
   "id": "7729b487-362e-4541-8602-84a63880490a",
   "metadata": {},
   "outputs": [],
   "source": [
    "# param start the start date to get images\n",
    "# param end the end date\n",
    "# param output_dir the folder to save the images in\n",
    "def time_lapse_tc_images(start, end, output_dir):\n",
    "    global start_date, end_date, evalscript_wq, request_chlorophyll\n",
    "    dates = pd.date_range(start, end).tolist()\n",
    "    for date in dates:\n",
    "        d = str(date).split(' ')[0]\n",
    "        start_date, end_date = d, d\n",
    "        \n",
    "        evalscript_true_color = \"\"\"\n",
    "            //VERSION=3\n",
    "\n",
    "            function setup() {\n",
    "                return {\n",
    "                    input: [{\n",
    "                        bands: [\"B02\", \"B03\", \"B04\"]\n",
    "                    }],\n",
    "                    output: {\n",
    "                        bands: 3\n",
    "                    }\n",
    "                };\n",
    "            }\n",
    "\n",
    "            function evaluatePixel(sample) {\n",
    "                return [sample.B04, sample.B03, sample.B02];\n",
    "            }\n",
    "        \"\"\"\n",
    "\n",
    "        request_true_color = SentinelHubRequest(\n",
    "            evalscript=evalscript_true_color,\n",
    "            input_data=[\n",
    "                SentinelHubRequest.input_data(\n",
    "                    data_collection=DataCollection.SENTINEL2_L1C,\n",
    "                    time_interval=(start_date, end_date),\n",
    "                )\n",
    "            ],\n",
    "            responses=[\n",
    "                SentinelHubRequest.output_response('default', MimeType.PNG)\n",
    "            ],\n",
    "            bbox=betsiboka_bbox,\n",
    "            size=betsiboka_size,\n",
    "            config=config\n",
    "        )\n",
    "        \n",
    "        # update these as relevant to the location/save location\n",
    "        save_name = output_dir+'/tc_map'+d+'.png'\n",
    "        img_title =  region_name + ' ' + d# This needs to be updated for the location\n",
    "        generate_tc_tiffs(save_name, img_title, request_true_color)"
   ]
  },
  {
   "cell_type": "code",
   "execution_count": 48,
   "id": "8fb2503d-1c42-4dcc-9a4a-ed49f49b4926",
   "metadata": {},
   "outputs": [],
   "source": [
    "time_lapse_tc_images(start_images, end_images,image_output_dir)"
   ]
  },
  {
   "cell_type": "markdown",
   "id": "5ae214c5-b88b-4c8c-8425-56d92905ad55",
   "metadata": {},
   "source": []
  },
  {
   "cell_type": "code",
   "execution_count": null,
   "id": "40eaf1d2-af63-4698-9180-45b3d1fbce18",
   "metadata": {},
   "outputs": [],
   "source": []
  }
 ],
 "metadata": {
  "kernelspec": {
   "display_name": "EDC 0.24.5 (Python3)",
   "language": "python",
   "name": "edc"
  },
  "language_info": {
   "codemirror_mode": {
    "name": "ipython",
    "version": 3
   },
   "file_extension": ".py",
   "mimetype": "text/x-python",
   "name": "python",
   "nbconvert_exporter": "python",
   "pygments_lexer": "ipython3",
   "version": "3.8.10"
  }
 },
 "nbformat": 4,
 "nbformat_minor": 5
}
