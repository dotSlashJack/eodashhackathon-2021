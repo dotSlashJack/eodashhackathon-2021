{
 "cells": [
  {
   "cell_type": "markdown",
   "metadata": {},
   "source": [
    "## Ise and Nagoya Bay Water Quality & Car/Container Data\n",
    "\n",
    "Authors: C. Herbert \n",
    "\n",
    "6/28/2021"
   ]
  },
  {
   "cell_type": "code",
   "execution_count": 1,
   "metadata": {},
   "outputs": [],
   "source": [
    "# Import Packages\n",
    "import json\n",
    "import geopandas as gpd\n",
    "import requests\n",
    "import numpy as np\n",
    "import matplotlib.pyplot as plt\n",
    "import requests\n",
    "import pandas as pd\n",
    "import matplotlib.dates as mdates\n",
    "\n",
    "import numpy as np\n",
    "from scipy import stats\n",
    "from scipy.stats import linregress\n",
    "\n",
    "from mpl_toolkits.axes_grid1 import host_subplot\n",
    "import mpl_toolkits.axisartist as AA\n",
    "import matplotlib.pyplot as plt\n",
    "import statsmodels\n",
    "import sklearn"
   ]
  },
  {
   "cell_type": "markdown",
   "metadata": {},
   "source": [
    "### Part I. Read in Data\n",
    "\n",
    "***Ise Bay Water***\n",
    "- Total Suspended Matter (TSM) \n",
    "    - Downloaded: TSM_2021-06-28_JP06-N3b.csv (20210628 at 11:29 AM EST)\n",
    "- Chlorophyll (CHL-A) Downloaded\n",
    "    - Downloaded: Chl-a_2021-06-28_JP04-N3b.csv"
   ]
  },
  {
   "cell_type": "code",
   "execution_count": 2,
   "metadata": {},
   "outputs": [],
   "source": [
    "from pandas import read_csv\n",
    "from pandas import datetime\n",
    "from matplotlib import pyplot\n",
    "from pandas.plotting import autocorrelation_plot"
   ]
  },
  {
   "cell_type": "code",
   "execution_count": 3,
   "metadata": {},
   "outputs": [
    {
     "data": {
      "text/html": [
       "<div>\n",
       "<style scoped>\n",
       "    .dataframe tbody tr th:only-of-type {\n",
       "        vertical-align: middle;\n",
       "    }\n",
       "\n",
       "    .dataframe tbody tr th {\n",
       "        vertical-align: top;\n",
       "    }\n",
       "\n",
       "    .dataframe thead th {\n",
       "        text-align: right;\n",
       "    }\n",
       "</style>\n",
       "<table border=\"1\" class=\"dataframe\">\n",
       "  <thead>\n",
       "    <tr style=\"text-align: right;\">\n",
       "      <th></th>\n",
       "      <th>time</th>\n",
       "      <th>TSM</th>\n",
       "    </tr>\n",
       "  </thead>\n",
       "  <tbody>\n",
       "    <tr>\n",
       "      <th>0</th>\n",
       "      <td>2019-01-05T00:00:00.000Z</td>\n",
       "      <td>49.66</td>\n",
       "    </tr>\n",
       "    <tr>\n",
       "      <th>1</th>\n",
       "      <td>2019-01-12T00:00:00.000Z</td>\n",
       "      <td>-21.78</td>\n",
       "    </tr>\n",
       "    <tr>\n",
       "      <th>2</th>\n",
       "      <td>2019-01-19T00:00:00.000Z</td>\n",
       "      <td>-42.93</td>\n",
       "    </tr>\n",
       "    <tr>\n",
       "      <th>3</th>\n",
       "      <td>2019-01-26T00:00:00.000Z</td>\n",
       "      <td>73.00</td>\n",
       "    </tr>\n",
       "    <tr>\n",
       "      <th>4</th>\n",
       "      <td>2019-02-02T00:00:00.000Z</td>\n",
       "      <td>67.48</td>\n",
       "    </tr>\n",
       "  </tbody>\n",
       "</table>\n",
       "</div>"
      ],
      "text/plain": [
       "                       time    TSM\n",
       "0  2019-01-05T00:00:00.000Z  49.66\n",
       "1  2019-01-12T00:00:00.000Z -21.78\n",
       "2  2019-01-19T00:00:00.000Z -42.93\n",
       "3  2019-01-26T00:00:00.000Z  73.00\n",
       "4  2019-02-02T00:00:00.000Z  67.48"
      ]
     },
     "execution_count": 3,
     "metadata": {},
     "output_type": "execute_result"
    }
   ],
   "source": [
    "# TSM, change path to where your data is downloaded\n",
    "ib_tsm = pd.read_csv(\"C:/Users/claud/Downloads/Ise Bay, TSM_2021-06-28_JP06-N3b.csv\", parse_dates=True).rename(columns={'measurement': 'TSM'})\n",
    "ib_tsm = ib_tsm[[\"time\", \"TSM\"]]\n",
    "ib_tsm.head()"
   ]
  },
  {
   "cell_type": "code",
   "execution_count": 4,
   "metadata": {
    "scrolled": false
   },
   "outputs": [
    {
     "data": {
      "text/html": [
       "<div>\n",
       "<style scoped>\n",
       "    .dataframe tbody tr th:only-of-type {\n",
       "        vertical-align: middle;\n",
       "    }\n",
       "\n",
       "    .dataframe tbody tr th {\n",
       "        vertical-align: top;\n",
       "    }\n",
       "\n",
       "    .dataframe thead th {\n",
       "        text-align: right;\n",
       "    }\n",
       "</style>\n",
       "<table border=\"1\" class=\"dataframe\">\n",
       "  <thead>\n",
       "    <tr style=\"text-align: right;\">\n",
       "      <th></th>\n",
       "      <th>time</th>\n",
       "      <th>CHL_A</th>\n",
       "    </tr>\n",
       "  </thead>\n",
       "  <tbody>\n",
       "    <tr>\n",
       "      <th>0</th>\n",
       "      <td>2019-01-05T00:00:00.000Z</td>\n",
       "      <td>90.19</td>\n",
       "    </tr>\n",
       "    <tr>\n",
       "      <th>1</th>\n",
       "      <td>2019-01-12T00:00:00.000Z</td>\n",
       "      <td>-44.89</td>\n",
       "    </tr>\n",
       "    <tr>\n",
       "      <th>2</th>\n",
       "      <td>2019-01-19T00:00:00.000Z</td>\n",
       "      <td>82.41</td>\n",
       "    </tr>\n",
       "    <tr>\n",
       "      <th>3</th>\n",
       "      <td>2019-01-26T00:00:00.000Z</td>\n",
       "      <td>290.35</td>\n",
       "    </tr>\n",
       "    <tr>\n",
       "      <th>4</th>\n",
       "      <td>2019-02-02T00:00:00.000Z</td>\n",
       "      <td>318.43</td>\n",
       "    </tr>\n",
       "  </tbody>\n",
       "</table>\n",
       "</div>"
      ],
      "text/plain": [
       "                       time   CHL_A\n",
       "0  2019-01-05T00:00:00.000Z   90.19\n",
       "1  2019-01-12T00:00:00.000Z  -44.89\n",
       "2  2019-01-19T00:00:00.000Z   82.41\n",
       "3  2019-01-26T00:00:00.000Z  290.35\n",
       "4  2019-02-02T00:00:00.000Z  318.43"
      ]
     },
     "execution_count": 4,
     "metadata": {},
     "output_type": "execute_result"
    }
   ],
   "source": [
    "# CHL_A, change path to where your data is downloaded\n",
    "ib_cha = pd.read_csv(\"C:/Users/claud/Downloads/Ise Bay, Chl-a_2021-06-28_JP04-N3b.csv\", parse_dates=True).rename(columns={'measurement': 'CHL_A'})\n",
    "ib_cha = ib_cha[[\"time\", \"CHL_A\"]]\n",
    "ib_cha.head()"
   ]
  },
  {
   "cell_type": "code",
   "execution_count": 5,
   "metadata": {
    "scrolled": true
   },
   "outputs": [
    {
     "data": {
      "text/html": [
       "<div>\n",
       "<style scoped>\n",
       "    .dataframe tbody tr th:only-of-type {\n",
       "        vertical-align: middle;\n",
       "    }\n",
       "\n",
       "    .dataframe tbody tr th {\n",
       "        vertical-align: top;\n",
       "    }\n",
       "\n",
       "    .dataframe thead th {\n",
       "        text-align: right;\n",
       "    }\n",
       "</style>\n",
       "<table border=\"1\" class=\"dataframe\">\n",
       "  <thead>\n",
       "    <tr style=\"text-align: right;\">\n",
       "      <th></th>\n",
       "      <th>time</th>\n",
       "      <th>aoi</th>\n",
       "      <th>CAR</th>\n",
       "      <th>indicatorValue</th>\n",
       "      <th>referenceTime</th>\n",
       "      <th>dataProvider</th>\n",
       "      <th>eoSensor</th>\n",
       "      <th>colorCode</th>\n",
       "      <th>inputData</th>\n",
       "    </tr>\n",
       "  </thead>\n",
       "  <tbody>\n",
       "    <tr>\n",
       "      <th>0</th>\n",
       "      <td>2019-11-27T00:00:00.000Z</td>\n",
       "      <td>LatLng(35.08, 136.88)</td>\n",
       "      <td>0.86</td>\n",
       "      <td>/</td>\n",
       "      <td>Invalid DateTime</td>\n",
       "      <td>JAXA</td>\n",
       "      <td>ALOS-2</td>\n",
       "      <td>BLUE</td>\n",
       "      <td>industry</td>\n",
       "    </tr>\n",
       "    <tr>\n",
       "      <th>1</th>\n",
       "      <td>2020-01-03T00:00:00.000Z</td>\n",
       "      <td>LatLng(35.08, 136.88)</td>\n",
       "      <td>0.66</td>\n",
       "      <td>/</td>\n",
       "      <td>Invalid DateTime</td>\n",
       "      <td>JAXA</td>\n",
       "      <td>Sentinel-1</td>\n",
       "      <td>BLUE</td>\n",
       "      <td>industry</td>\n",
       "    </tr>\n",
       "    <tr>\n",
       "      <th>2</th>\n",
       "      <td>2020-01-27T00:00:00.000Z</td>\n",
       "      <td>LatLng(35.08, 136.88)</td>\n",
       "      <td>0.74</td>\n",
       "      <td>/</td>\n",
       "      <td>Invalid DateTime</td>\n",
       "      <td>JAXA</td>\n",
       "      <td>Sentinel-1</td>\n",
       "      <td>BLUE</td>\n",
       "      <td>industry</td>\n",
       "    </tr>\n",
       "    <tr>\n",
       "      <th>3</th>\n",
       "      <td>2020-01-31T00:00:00.000Z</td>\n",
       "      <td>LatLng(35.08, 136.88)</td>\n",
       "      <td>0.72</td>\n",
       "      <td>/</td>\n",
       "      <td>Invalid DateTime</td>\n",
       "      <td>JAXA</td>\n",
       "      <td>ALOS-2</td>\n",
       "      <td>BLUE</td>\n",
       "      <td>industry</td>\n",
       "    </tr>\n",
       "    <tr>\n",
       "      <th>4</th>\n",
       "      <td>2020-02-08T00:00:00.000Z</td>\n",
       "      <td>LatLng(35.08, 136.88)</td>\n",
       "      <td>0.96</td>\n",
       "      <td>/</td>\n",
       "      <td>Invalid DateTime</td>\n",
       "      <td>JAXA</td>\n",
       "      <td>Sentinel-1</td>\n",
       "      <td>BLUE</td>\n",
       "      <td>industry</td>\n",
       "    </tr>\n",
       "  </tbody>\n",
       "</table>\n",
       "</div>"
      ],
      "text/plain": [
       "                       time                    aoi   CAR indicatorValue  \\\n",
       "0  2019-11-27T00:00:00.000Z  LatLng(35.08, 136.88)  0.86              /   \n",
       "1  2020-01-03T00:00:00.000Z  LatLng(35.08, 136.88)  0.66              /   \n",
       "2  2020-01-27T00:00:00.000Z  LatLng(35.08, 136.88)  0.74              /   \n",
       "3  2020-01-31T00:00:00.000Z  LatLng(35.08, 136.88)  0.72              /   \n",
       "4  2020-02-08T00:00:00.000Z  LatLng(35.08, 136.88)  0.96              /   \n",
       "\n",
       "      referenceTime dataProvider    eoSensor colorCode inputData  \n",
       "0  Invalid DateTime         JAXA      ALOS-2      BLUE  industry  \n",
       "1  Invalid DateTime         JAXA  Sentinel-1      BLUE  industry  \n",
       "2  Invalid DateTime         JAXA  Sentinel-1      BLUE  industry  \n",
       "3  Invalid DateTime         JAXA      ALOS-2      BLUE  industry  \n",
       "4  Invalid DateTime         JAXA  Sentinel-1      BLUE  industry  "
      ]
     },
     "execution_count": 5,
     "metadata": {},
     "output_type": "execute_result"
    }
   ],
   "source": [
    "# Nagoya_2021-06-28_JP03-E9.csv\n",
    "nagoya_car = pd.read_csv(\"C:/Users/claud/Downloads/Nagoya_2021-06-28_JP03-E9.csv\", parse_dates=True).rename(columns={'measurement': 'CAR'})\n",
    "nagoya_car.head()"
   ]
  },
  {
   "cell_type": "code",
   "execution_count": 6,
   "metadata": {},
   "outputs": [
    {
     "name": "stdout",
     "output_type": "stream",
     "text": [
      "                       time    TSM                    time_1\n",
      "0  2019-01-05T00:00:00.000Z  49.66 2019-01-05 00:00:00+00:00\n",
      "1  2019-01-12T00:00:00.000Z -21.78 2019-01-12 00:00:00+00:00\n",
      "2  2019-01-19T00:00:00.000Z -42.93 2019-01-19 00:00:00+00:00\n",
      "3  2019-01-26T00:00:00.000Z  73.00 2019-01-26 00:00:00+00:00\n",
      "4  2019-02-02T00:00:00.000Z  67.48 2019-02-02 00:00:00+00:00\n",
      "                       time   CHL_A\n",
      "0 2019-01-05 00:00:00+00:00   90.19\n",
      "1 2019-01-12 00:00:00+00:00  -44.89\n",
      "2 2019-01-19 00:00:00+00:00   82.41\n",
      "3 2019-01-26 00:00:00+00:00  290.35\n",
      "4 2019-02-02 00:00:00+00:00  318.43\n"
     ]
    }
   ],
   "source": [
    "datetimes = pd.to_datetime(ib_tsm ['time'])\n",
    "ib_tsm['time_1'] = datetimes\n",
    "print(ib_tsm.head())\n",
    "\n",
    "datetimes = pd.to_datetime(ib_cha['time'])\n",
    "ib_cha['time'] = datetimes\n",
    "print(ib_cha.head())"
   ]
  },
  {
   "cell_type": "code",
   "execution_count": 7,
   "metadata": {},
   "outputs": [
    {
     "data": {
      "text/html": [
       "<div>\n",
       "<style scoped>\n",
       "    .dataframe tbody tr th:only-of-type {\n",
       "        vertical-align: middle;\n",
       "    }\n",
       "\n",
       "    .dataframe tbody tr th {\n",
       "        vertical-align: top;\n",
       "    }\n",
       "\n",
       "    .dataframe thead th {\n",
       "        text-align: right;\n",
       "    }\n",
       "</style>\n",
       "<table border=\"1\" class=\"dataframe\">\n",
       "  <thead>\n",
       "    <tr style=\"text-align: right;\">\n",
       "      <th></th>\n",
       "      <th>time</th>\n",
       "      <th>aoi</th>\n",
       "      <th>CAR</th>\n",
       "      <th>indicatorValue</th>\n",
       "      <th>referenceTime</th>\n",
       "      <th>dataProvider</th>\n",
       "      <th>eoSensor</th>\n",
       "      <th>colorCode</th>\n",
       "      <th>inputData</th>\n",
       "      <th>car_ann</th>\n",
       "    </tr>\n",
       "  </thead>\n",
       "  <tbody>\n",
       "    <tr>\n",
       "      <th>0</th>\n",
       "      <td>2019-11-27T00:00:00.000Z</td>\n",
       "      <td>LatLng(35.08, 136.88)</td>\n",
       "      <td>0.86</td>\n",
       "      <td>/</td>\n",
       "      <td>Invalid DateTime</td>\n",
       "      <td>JAXA</td>\n",
       "      <td>ALOS-2</td>\n",
       "      <td>BLUE</td>\n",
       "      <td>industry</td>\n",
       "      <td>102.152932</td>\n",
       "    </tr>\n",
       "    <tr>\n",
       "      <th>1</th>\n",
       "      <td>2020-01-03T00:00:00.000Z</td>\n",
       "      <td>LatLng(35.08, 136.88)</td>\n",
       "      <td>0.66</td>\n",
       "      <td>/</td>\n",
       "      <td>Invalid DateTime</td>\n",
       "      <td>JAXA</td>\n",
       "      <td>Sentinel-1</td>\n",
       "      <td>BLUE</td>\n",
       "      <td>industry</td>\n",
       "      <td>78.396437</td>\n",
       "    </tr>\n",
       "    <tr>\n",
       "      <th>2</th>\n",
       "      <td>2020-01-27T00:00:00.000Z</td>\n",
       "      <td>LatLng(35.08, 136.88)</td>\n",
       "      <td>0.74</td>\n",
       "      <td>/</td>\n",
       "      <td>Invalid DateTime</td>\n",
       "      <td>JAXA</td>\n",
       "      <td>Sentinel-1</td>\n",
       "      <td>BLUE</td>\n",
       "      <td>industry</td>\n",
       "      <td>87.899035</td>\n",
       "    </tr>\n",
       "    <tr>\n",
       "      <th>3</th>\n",
       "      <td>2020-01-31T00:00:00.000Z</td>\n",
       "      <td>LatLng(35.08, 136.88)</td>\n",
       "      <td>0.72</td>\n",
       "      <td>/</td>\n",
       "      <td>Invalid DateTime</td>\n",
       "      <td>JAXA</td>\n",
       "      <td>ALOS-2</td>\n",
       "      <td>BLUE</td>\n",
       "      <td>industry</td>\n",
       "      <td>85.523385</td>\n",
       "    </tr>\n",
       "    <tr>\n",
       "      <th>4</th>\n",
       "      <td>2020-02-08T00:00:00.000Z</td>\n",
       "      <td>LatLng(35.08, 136.88)</td>\n",
       "      <td>0.96</td>\n",
       "      <td>/</td>\n",
       "      <td>Invalid DateTime</td>\n",
       "      <td>JAXA</td>\n",
       "      <td>Sentinel-1</td>\n",
       "      <td>BLUE</td>\n",
       "      <td>industry</td>\n",
       "      <td>114.031180</td>\n",
       "    </tr>\n",
       "  </tbody>\n",
       "</table>\n",
       "</div>"
      ],
      "text/plain": [
       "                       time                    aoi   CAR indicatorValue  \\\n",
       "0  2019-11-27T00:00:00.000Z  LatLng(35.08, 136.88)  0.86              /   \n",
       "1  2020-01-03T00:00:00.000Z  LatLng(35.08, 136.88)  0.66              /   \n",
       "2  2020-01-27T00:00:00.000Z  LatLng(35.08, 136.88)  0.74              /   \n",
       "3  2020-01-31T00:00:00.000Z  LatLng(35.08, 136.88)  0.72              /   \n",
       "4  2020-02-08T00:00:00.000Z  LatLng(35.08, 136.88)  0.96              /   \n",
       "\n",
       "      referenceTime dataProvider    eoSensor colorCode inputData     car_ann  \n",
       "0  Invalid DateTime         JAXA      ALOS-2      BLUE  industry  102.152932  \n",
       "1  Invalid DateTime         JAXA  Sentinel-1      BLUE  industry   78.396437  \n",
       "2  Invalid DateTime         JAXA  Sentinel-1      BLUE  industry   87.899035  \n",
       "3  Invalid DateTime         JAXA      ALOS-2      BLUE  industry   85.523385  \n",
       "4  Invalid DateTime         JAXA  Sentinel-1      BLUE  industry  114.031180  "
      ]
     },
     "execution_count": 7,
     "metadata": {},
     "output_type": "execute_result"
    }
   ],
   "source": [
    "ib_tsm = ib_tsm.assign(ann_TSM = (ib_tsm.TSM / 100))\n",
    "ib_cha = ib_cha.assign(ann_CHL_A= (ib_cha.CHL_A/ 100))\n",
    "nagoya_car = nagoya_car.assign(car_ann = (nagoya_car.CAR / nagoya_car.CAR.mean())*100)\n",
    "\n",
    "nagoya_car.head()"
   ]
  },
  {
   "cell_type": "markdown",
   "metadata": {},
   "source": [
    "Combining data: "
   ]
  },
  {
   "cell_type": "code",
   "execution_count": 8,
   "metadata": {},
   "outputs": [
    {
     "data": {
      "text/html": [
       "<div>\n",
       "<style scoped>\n",
       "    .dataframe tbody tr th:only-of-type {\n",
       "        vertical-align: middle;\n",
       "    }\n",
       "\n",
       "    .dataframe tbody tr th {\n",
       "        vertical-align: top;\n",
       "    }\n",
       "\n",
       "    .dataframe thead th {\n",
       "        text-align: right;\n",
       "    }\n",
       "</style>\n",
       "<table border=\"1\" class=\"dataframe\">\n",
       "  <thead>\n",
       "    <tr style=\"text-align: right;\">\n",
       "      <th></th>\n",
       "      <th>time</th>\n",
       "      <th>TSM</th>\n",
       "      <th>CHL_A</th>\n",
       "      <th>ann_CHL_A</th>\n",
       "      <th>ann_TSM</th>\n",
       "    </tr>\n",
       "  </thead>\n",
       "  <tbody>\n",
       "    <tr>\n",
       "      <th>0</th>\n",
       "      <td>2019-01-05 00:00:00+00:00</td>\n",
       "      <td>49.66</td>\n",
       "      <td>90.19</td>\n",
       "      <td>0.9019</td>\n",
       "      <td>0.4966</td>\n",
       "    </tr>\n",
       "    <tr>\n",
       "      <th>1</th>\n",
       "      <td>2019-01-12 00:00:00+00:00</td>\n",
       "      <td>-21.78</td>\n",
       "      <td>-44.89</td>\n",
       "      <td>-0.4489</td>\n",
       "      <td>-0.2178</td>\n",
       "    </tr>\n",
       "    <tr>\n",
       "      <th>2</th>\n",
       "      <td>2019-01-19 00:00:00+00:00</td>\n",
       "      <td>-42.93</td>\n",
       "      <td>82.41</td>\n",
       "      <td>0.8241</td>\n",
       "      <td>-0.4293</td>\n",
       "    </tr>\n",
       "    <tr>\n",
       "      <th>3</th>\n",
       "      <td>2019-01-26 00:00:00+00:00</td>\n",
       "      <td>73.00</td>\n",
       "      <td>290.35</td>\n",
       "      <td>2.9035</td>\n",
       "      <td>0.7300</td>\n",
       "    </tr>\n",
       "    <tr>\n",
       "      <th>4</th>\n",
       "      <td>2019-02-02 00:00:00+00:00</td>\n",
       "      <td>67.48</td>\n",
       "      <td>318.43</td>\n",
       "      <td>3.1843</td>\n",
       "      <td>0.6748</td>\n",
       "    </tr>\n",
       "  </tbody>\n",
       "</table>\n",
       "</div>"
      ],
      "text/plain": [
       "                       time    TSM   CHL_A  ann_CHL_A  ann_TSM\n",
       "0 2019-01-05 00:00:00+00:00  49.66   90.19     0.9019   0.4966\n",
       "1 2019-01-12 00:00:00+00:00 -21.78  -44.89    -0.4489  -0.2178\n",
       "2 2019-01-19 00:00:00+00:00 -42.93   82.41     0.8241  -0.4293\n",
       "3 2019-01-26 00:00:00+00:00  73.00  290.35     2.9035   0.7300\n",
       "4 2019-02-02 00:00:00+00:00  67.48  318.43     3.1843   0.6748"
      ]
     },
     "execution_count": 8,
     "metadata": {},
     "output_type": "execute_result"
    }
   ],
   "source": [
    "ib_water = pd.concat([ib_tsm, ib_cha], axis=1)[[\"time_1\",\"TSM\",\"CHL_A\",\"ann_CHL_A\",\"ann_TSM\"]].rename(columns={'time_1': 'time'})\n",
    "ib_water.head()"
   ]
  },
  {
   "cell_type": "markdown",
   "metadata": {},
   "source": [
    "Pretty sure we don't want to use demeanded data, but wanted to see how different it would look"
   ]
  },
  {
   "cell_type": "code",
   "execution_count": 9,
   "metadata": {},
   "outputs": [
    {
     "name": "stdout",
     "output_type": "stream",
     "text": [
      "                       time                    aoi   CAR indicatorValue  \\\n",
      "0 2019-11-27 00:00:00+00:00  LatLng(35.08, 136.88)  0.86              /   \n",
      "1 2020-01-03 00:00:00+00:00  LatLng(35.08, 136.88)  0.66              /   \n",
      "2 2020-01-27 00:00:00+00:00  LatLng(35.08, 136.88)  0.74              /   \n",
      "3 2020-01-31 00:00:00+00:00  LatLng(35.08, 136.88)  0.72              /   \n",
      "4 2020-02-08 00:00:00+00:00  LatLng(35.08, 136.88)  0.96              /   \n",
      "\n",
      "      referenceTime dataProvider    eoSensor colorCode inputData     car_ann  \n",
      "0  Invalid DateTime         JAXA      ALOS-2      BLUE  industry  102.152932  \n",
      "1  Invalid DateTime         JAXA  Sentinel-1      BLUE  industry   78.396437  \n",
      "2  Invalid DateTime         JAXA  Sentinel-1      BLUE  industry   87.899035  \n",
      "3  Invalid DateTime         JAXA      ALOS-2      BLUE  industry   85.523385  \n",
      "4  Invalid DateTime         JAXA  Sentinel-1      BLUE  industry  114.031180  \n"
     ]
    }
   ],
   "source": [
    "datetimes = pd.to_datetime(nagoya_car['time'])\n",
    "nagoya_car['time'] = datetimes\n",
    "print(nagoya_car.head())"
   ]
  },
  {
   "cell_type": "markdown",
   "metadata": {},
   "source": [
    "Plotting our data: "
   ]
  },
  {
   "cell_type": "markdown",
   "metadata": {},
   "source": [
    "Because our car and container data is limited temporally and an indexed, let's look at it on it's own axis"
   ]
  },
  {
   "cell_type": "code",
   "execution_count": 10,
   "metadata": {},
   "outputs": [
    {
     "name": "stderr",
     "output_type": "stream",
     "text": [
      "C:\\Users\\claud\\Anaconda3_windows\\lib\\site-packages\\pandas\\plotting\\_converter.py:129: FutureWarning: Using an implicitly registered datetime converter for a matplotlib plotting method. The converter was registered by pandas on import. Future versions of pandas will require you to explicitly register matplotlib converters.\n",
      "\n",
      "To register the converters:\n",
      "\t>>> from pandas.plotting import register_matplotlib_converters\n",
      "\t>>> register_matplotlib_converters()\n",
      "  warnings.warn(msg, FutureWarning)\n"
     ]
    },
    {
     "data": {
      "image/png": "[encoded data removed]",
      "text/plain": [
       "<Figure size 432x288 with 1 Axes>"
      ]
     },
     "metadata": {
      "needs_background": "light"
     },
     "output_type": "display_data"
    }
   ],
   "source": [
    "plt.plot(nagoya_car.time, nagoya_car.CAR, marker='o', color='#8f9805') \n",
    "formatter = mdates.DateFormatter(\"%Y-%m-%d\")\n",
    "ax = plt.gca()\n",
    "ax.xaxis.set_major_formatter(formatter)\n",
    "plt.title('Cars & Containers in Nagoya Bay')\n",
    "plt.show()"
   ]
  },
  {
   "cell_type": "markdown",
   "metadata": {},
   "source": [
    "## Part 2: let's now look at the dates between the shutdown periods\n",
    "\n",
    "Enter the dates for the lockdown using the function below"
   ]
  },
  {
   "cell_type": "code",
   "execution_count": 11,
   "metadata": {},
   "outputs": [],
   "source": [
    "def get_input():\n",
    "    print(\"\\nEnter start lockdown date (example->'2020-03-25 00:00:00+00:00') >> \")\n",
    "    start_lock = input()\n",
    "    print(\"\\nEnter end lockdown date (example-> '2021-06-28 00:00:00+00:00') >> \")\n",
    "    end_lock = input()\n",
    "    return([start_lock,end_lock])   #returns the list of user inputs"
   ]
  },
  {
   "cell_type": "markdown",
   "metadata": {},
   "source": [
    "If you don't know what dates to use, the example is the approximate shutdown to present for Japan"
   ]
  },
  {
   "cell_type": "code",
   "execution_count": 12,
   "metadata": {
    "scrolled": false
   },
   "outputs": [
    {
     "name": "stdout",
     "output_type": "stream",
     "text": [
      "\n",
      "Enter start lockdown date (example->'2020-03-25 00:00:00+00:00') >> \n",
      "2020-03-25 00:00:00+00:00\n",
      "\n",
      "Enter end lockdown date (example-> '2021-06-28 00:00:00+00:00') >> \n",
      "2021-06-28 00:00:00+00:00\n"
     ]
    }
   ],
   "source": [
    "user_input = get_input()"
   ]
  },
  {
   "cell_type": "code",
   "execution_count": 13,
   "metadata": {},
   "outputs": [],
   "source": [
    "def get_wq_data_lockdown(user_input):\n",
    "   #this is takes a user-input lockdown dates and returns filtered water quality data\n",
    "    mask = (ib_water['time'] > user_input[0]) & (ib_water['time'] <= user_input[1])\n",
    "    shut = ib_water.loc[mask]\n",
    "    return shut"
   ]
  },
  {
   "cell_type": "code",
   "execution_count": 14,
   "metadata": {},
   "outputs": [],
   "source": [
    "def get_car_data_lockdown(user_input):\n",
    "   #this is takes a user-input lockdown dates and returns filtered water quality data\n",
    "    mask = (nagoya_car['time'] > user_input[0]) & (nagoya_car['time'] <= user_input[1])\n",
    "    shut = nagoya_car.loc[mask]\n",
    "    return shut"
   ]
  },
  {
   "cell_type": "code",
   "execution_count": 15,
   "metadata": {},
   "outputs": [],
   "source": [
    "shutdown_water = get_wq_data_lockdown(user_input)\n",
    "shutdown_car = get_car_data_lockdown(user_input)"
   ]
  },
  {
   "cell_type": "code",
   "execution_count": 16,
   "metadata": {},
   "outputs": [
    {
     "name": "stdout",
     "output_type": "stream",
     "text": [
      "Average cars in Port of Nagoya (%):99.2913545252075\n",
      "Average Total Suspended Matter anomaly (%):50.441296296296294\n",
      "Average Chlorophyll-a anomaly (%):52.90277777777777\n"
     ]
    }
   ],
   "source": [
    "print('Average cars in Port of Nagoya (%):' + str(shutdown_car.mean()[1]))\n",
    "print('Average Total Suspended Matter anomaly (%):' + str(shutdown_water.mean()[0]))\n",
    "print('Average Chlorophyll-a anomaly (%):' + str(shutdown_water.mean()[1]))"
   ]
  },
  {
   "cell_type": "code",
   "execution_count": 17,
   "metadata": {
    "scrolled": true
   },
   "outputs": [
    {
     "data": {
      "image/png": "[encoded data removed]",
      "text/plain": [
       "<Figure size 432x288 with 1 Axes>"
      ]
     },
     "metadata": {
      "needs_background": "light"
     },
     "output_type": "display_data"
    }
   ],
   "source": [
    "plt.plot(shutdown_water.time, shutdown_water.ann_CHL_A,  color='mediumvioletred', label = 'Chlorophyll-a concentration anomaly') \n",
    "plt.plot(shutdown_water.time, shutdown_water.ann_TSM, color='lightblue', label='Total Suspended Matter concentration anomaly') \n",
    "plt.plot(shutdown_car.time, shutdown_car.CAR,  marker='o', color='#8f9805', alpha = .5, label = \"Activity Car Density change anomaly\") \n",
    "formatter = mdates.DateFormatter(\"%y-%m\")\n",
    "ax = plt.gca()\n",
    "plt.legend()\n",
    "ax.xaxis.set_major_formatter(formatter)\n",
    "plt.ylabel('Concentration/Car Change Anomaly (%)')\n",
    "plt.title('Water Quality in Ise Bay')\n",
    "plt.show()"
   ]
  },
  {
   "cell_type": "code",
   "execution_count": 18,
   "metadata": {},
   "outputs": [
    {
     "data": {
      "text/html": [
       "<div>\n",
       "<style scoped>\n",
       "    .dataframe tbody tr th:only-of-type {\n",
       "        vertical-align: middle;\n",
       "    }\n",
       "\n",
       "    .dataframe tbody tr th {\n",
       "        vertical-align: top;\n",
       "    }\n",
       "\n",
       "    .dataframe thead th {\n",
       "        text-align: right;\n",
       "    }\n",
       "</style>\n",
       "<table border=\"1\" class=\"dataframe\">\n",
       "  <thead>\n",
       "    <tr style=\"text-align: right;\">\n",
       "      <th></th>\n",
       "      <th>time</th>\n",
       "      <th>WQ</th>\n",
       "      <th>ann_wq</th>\n",
       "    </tr>\n",
       "  </thead>\n",
       "  <tbody>\n",
       "    <tr>\n",
       "      <th>0</th>\n",
       "      <td>2019-11-01</td>\n",
       "      <td>151.636064</td>\n",
       "      <td>1.010820</td>\n",
       "    </tr>\n",
       "    <tr>\n",
       "      <th>1</th>\n",
       "      <td>2019-11-02</td>\n",
       "      <td>146.850284</td>\n",
       "      <td>0.978918</td>\n",
       "    </tr>\n",
       "    <tr>\n",
       "      <th>2</th>\n",
       "      <td>2019-11-03</td>\n",
       "      <td>141.683547</td>\n",
       "      <td>0.944476</td>\n",
       "    </tr>\n",
       "    <tr>\n",
       "      <th>3</th>\n",
       "      <td>2019-11-04</td>\n",
       "      <td>150.753343</td>\n",
       "      <td>1.004936</td>\n",
       "    </tr>\n",
       "    <tr>\n",
       "      <th>4</th>\n",
       "      <td>2019-11-05</td>\n",
       "      <td>150.041109</td>\n",
       "      <td>1.000188</td>\n",
       "    </tr>\n",
       "  </tbody>\n",
       "</table>\n",
       "</div>"
      ],
      "text/plain": [
       "        time          WQ    ann_wq\n",
       "0 2019-11-01  151.636064  1.010820\n",
       "1 2019-11-02  146.850284  0.978918\n",
       "2 2019-11-03  141.683547  0.944476\n",
       "3 2019-11-04  150.753343  1.004936\n",
       "4 2019-11-05  150.041109  1.000188"
      ]
     },
     "execution_count": 18,
     "metadata": {},
     "output_type": "execute_result"
    }
   ],
   "source": [
    "# reading in our raster data from the created tif\n",
    "wq  = pd.read_csv(\"C:/Users/claud/Downloads/raster_avgs.csv\", parse_dates=True).rename(columns={'mean_tiff_val': 'WQ'})\n",
    "wq = wq.assign(ann_wq = (wq.WQ/ wq.WQ.mean()))\n",
    "\n",
    "# convert the date column to be a time variable \n",
    "datetimes = pd.to_datetime(wq['date'])\n",
    "wq['time'] = datetimes\n",
    "\n",
    "wq = wq[[\"time\", \"WQ\", \"ann_wq\"]]\n",
    "wq.head()"
   ]
  },
  {
   "cell_type": "code",
   "execution_count": 19,
   "metadata": {},
   "outputs": [
    {
     "data": {
      "image/png": "[encoded data removed]",
      "text/plain": [
       "<Figure size 432x288 with 1 Axes>"
      ]
     },
     "metadata": {
      "needs_background": "light"
     },
     "output_type": "display_data"
    }
   ],
   "source": [
    "plt.plot(shutdown_water.time, shutdown_water.ann_CHL_A,  color='mediumvioletred', label = 'Chlorophyll-a concentration anomaly') \n",
    "plt.plot(shutdown_water.time, shutdown_water.ann_TSM, color='lightblue', label='Total Suspended Matter concentration anomaly') \n",
    "plt.plot(shutdown_car.time, shutdown_car.CAR,  marker='o', color='#8f9805', alpha = .5, label = \"Activity Car Density change anomaly\") \n",
    "formatter = mdates.DateFormatter(\"%y-%m\")\n",
    "ax = plt.gca()\n",
    "plt.legend()\n",
    "ax.xaxis.set_major_formatter(formatter)\n",
    "plt.ylabel('Concentration/Car Change Anomaly (%)')\n",
    "plt.title('Water Quality in Ise Bay')\n",
    "plt.show()"
   ]
  },
  {
   "cell_type": "code",
   "execution_count": 20,
   "metadata": {
    "scrolled": true
   },
   "outputs": [
    {
     "data": {
      "image/png": "[encoded data removed]",
      "text/plain": [
       "<Figure size 432x288 with 1 Axes>"
      ]
     },
     "metadata": {
      "needs_background": "light"
     },
     "output_type": "display_data"
    }
   ],
   "source": [
    "plt.plot(shutdown_water.time, shutdown_water.ann_TSM, color='lightblue')\n",
    "plt.plot(shutdown_car.time, shutdown_car.CAR, marker='o', color='#8f9805', alpha = .5) \n",
    "# plt.plot(wq.time, wq.ann_wq,  marker='o', color='red', alpha = .5)\n",
    "formatter = mdates.DateFormatter(\"%y-%m\")\n",
    "ax = plt.gca()\n",
    "ax.xaxis.set_major_formatter(formatter)\n",
    "plt.title('Annom. TSM During Lockdown')\n",
    "plt.show()"
   ]
  }
 ],
 "metadata": {
  "kernelspec": {
   "display_name": "Python 3",
   "language": "python",
   "name": "python3"
  },
  "language_info": {
   "codemirror_mode": {
    "name": "ipython",
    "version": 3
   },
   "file_extension": ".py",
   "mimetype": "text/x-python",
   "name": "python",
   "nbconvert_exporter": "python",
   "pygments_lexer": "ipython3",
   "version": "3.7.3"
  }
 },
 "nbformat": 4,
 "nbformat_minor": 2
}
