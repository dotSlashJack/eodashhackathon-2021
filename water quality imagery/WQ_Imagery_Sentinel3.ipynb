{
 "cells": [
  {
   "cell_type": "markdown",
   "id": "b7887509-a3e1-48f1-9601-21bf2fc6aa3a",
   "metadata": {},
   "source": [
    "# Get time series imagery for water quality data from sentinel 3 ocli\n",
    "\n",
    "Author: J. Hester\n",
    "\n",
    "6/26/2021\n",
    "\n",
    "EO Dashboard Hackathon"
   ]
  },
  {
   "cell_type": "markdown",
   "id": "c767cf7c-4082-4f55-8fbe-292b40f968d5",
   "metadata": {},
   "source": [
    "Based on code from https://docs.sentinel-hub.com/api/latest/data/sentinel-3-olci-l1b/,\n",
    "https://sentinelhub-py.readthedocs.io/en/latest/index.html, \n",
    "and the sentinelhub-py example jupyter notebook"
   ]
  },
  {
   "cell_type": "code",
   "execution_count": 2,
   "id": "0f726be4-4ba8-4090-8806-8808a56ac00c",
   "metadata": {},
   "outputs": [],
   "source": [
    "from edc import check_compatibility\n",
    "#check_compatibility(\"user-0.24.5\", dependencies=[\"SH\"])\n",
    "import s3fs\n",
    "import xarray as xr\n",
    "import matplotlib.pyplot as plt\n",
    "import numpy as np\n",
    "import xcube.core.store\n",
    "from xcube.core.dsio import open_cube\n",
    "import nc_time_axis\n",
    "plt.rcParams[\"figure.figsize\"] = 14,8\n",
    "import imageio\n",
    "import os\n",
    "import pandas as pd\n",
    "from oauthlib.oauth2 import BackendApplicationClient\n",
    "from requests_oauthlib import OAuth2Session\n",
    "#from requests_oauthlib import requests\n",
    "import geojson\n",
    "import shapely.wkt\n",
    "import shapely.geometry\n",
    "import IPython.display\n",
    "from sentinelhub import (MimeType, CRS, BBox, SentinelHubRequest, SentinelHubDownloadClient, \n",
    "                         DataCollection, bbox_to_dimensions, DownloadRequest, SHConfig)\n",
    "from osgeo import gdal\n",
    "from PIL import Image\n",
    "import time"
   ]
  },
  {
   "cell_type": "markdown",
   "id": "257503bb-38d9-4d40-97c1-6ad72dc4c09f",
   "metadata": {},
   "source": [
    "### Configuration"
   ]
  },
  {
   "cell_type": "code",
   "execution_count": 3,
   "id": "178d1591-b90a-4500-8bd8-667c42938a0b",
   "metadata": {},
   "outputs": [],
   "source": [
    "config = SHConfig()\n",
    "config.sh_client_id = os.environ[\"SH_CLIENT_ID\"]\n",
    "config.sh_client_secret = os.environ[\"SH_CLIENT_SECRET\"]"
   ]
  },
  {
   "cell_type": "code",
   "execution_count": 4,
   "id": "5b81cecb-e240-41d7-b510-421611304e05",
   "metadata": {},
   "outputs": [],
   "source": [
    "# Define the plot_image function\n",
    "# param save false to not save iamges or a save name and path\n",
    "# param title the iamge title (embedded inside image)\n",
    "def plot_image(image, factor=1.0, clip_range = None, save=False, title='', **kwargs):\n",
    "    \"\"\"\n",
    "    Utility function for plotting RGB images.\n",
    "    \"\"\"\n",
    "    fig, ax = plt.subplots(nrows=1, ncols=1, figsize=(15, 15))\n",
    "    \n",
    "    extent = [coords_wgs84[0],coords_wgs84[2], coords_wgs84[1], coords_wgs84[3]] # puts the coords in the right place on the output plot\n",
    "    \n",
    "    if clip_range is not None:\n",
    "        #ax.imshow(np.clip(image * factor, *clip_range), **kwargs)\n",
    "        ax.imshow(np.clip(image * factor, *clip_range), origin='upper', extent=extent, interpolation='none')\n", # TODO: verify coordinate orientation is fixed via "origin"
    "        ax.title.set_text(title)\n",
    "        if save:\n",
    "            ax.figure.savefig(save)\n",
    "    else:\n",
    "        #ax.imshow(image * factor, **kwargs)\n",
    "        ax.imshow(image * factor, origin='upper', extent=extent, interpolation='none')\n", # TODO: verify coordinate orientation is fixed via "origin"
    "        ax.title.set_text(title)\n",
    "        if save:\n",
    "            ax.figure.savefig(save)\n",
    "    ax.set_xticks([])\n",
    "    ax.set_yticks([])"
   ]
  },
  {
   "cell_type": "markdown",
   "id": "d26c0b58-99c7-400a-b62f-e91b055e153f",
   "metadata": {},
   "source": [
    "### User-specified values"
   ]
  },
  {
   "cell_type": "code",
   "execution_count": 5,
   "id": "7a837225-3469-4450-93f2-870fba3b9812",
   "metadata": {},
   "outputs": [],
   "source": [
    "#set rectangular study area by using coordinates at opposite corners\n",
    "# example is of ise bay\n",
    "coords_wgs84 = [137.01690785604998,34.51149653877783, 136.46484486776873, 35.100097358716525]\n",
    "region_name = 'Ise Bay' # the name of the area your rectangle surrounds to be used in image"
   ]
  },
  {
   "cell_type": "code",
   "execution_count": 6,
   "id": "33ea4df2-bb20-4b56-bcc9-0b58a10dcc5d",
   "metadata": {},
   "outputs": [],
   "source": [
    "resolution = 50 # m resolution size to get\n",
    "betsiboka_bbox = BBox(bbox=coords_wgs84, crs=CRS.WGS84)\n",
    "betsiboka_size = bbox_to_dimensions(betsiboka_bbox, resolution=resolution)"
   ]
  },
  {
   "cell_type": "code",
   "execution_count": 7,
   "id": "4529e2c1-eab6-46f3-958e-267b7e954980",
   "metadata": {},
   "outputs": [],
   "source": [
    "start_images = \"2019-11-01\" # first day to get images\n",
    "end_images = \"2021-06-01\" # last day to get images\n",
    "image_output_dir = \"wq_images\" # where to save the images"
   ]
  },
  {
   "cell_type": "markdown",
   "id": "e362825e-54e4-4e2f-9d68-56944d408b4e",
   "metadata": {},
   "source": [
    "### Generate water quality imagery"
   ]
  },
  {
   "cell_type": "code",
   "execution_count": 8,
   "id": "3e7bed02-c6af-4e0d-92c7-61cdff0c308d",
   "metadata": {},
   "outputs": [],
   "source": [
    "# param save_name the name of the output file, including the extension\n",
    "# param img_title the name of the image (such as location/date) to embed inside\n",
    "def generate_wq_tiffs(save_name, img_title, request_wq):\n",
    "    wq_imgs = request_wq.get_data()\n",
    "\n",
    "    image_c = wq_imgs[0]\n",
    "\n",
    "    plot_image(image_c, factor=2/255, clip_range=(0,1), save=save_name, title=img_title)"
   ]
  },
  {
   "cell_type": "markdown",
   "id": "f3245377-f297-4b58-bcff-03541de42a42",
   "metadata": {},
   "source": [
    "B02 = Yellow substance and detrital pigments (turbidity)\n",
    "\n",
    "B04 = Chlorophyll\n",
    "\n",
    "B05 = Chlorophyll, sediment, turbidity, red tide\n",
    "\n",
    "Change these values accordingly in evalscript_wq below. See https://docs.sentinel-hub.com/api/latest/data/sentinel-3-olci-l1b/ for more"
   ]
  },
  {
   "cell_type": "code",
   "execution_count": 9,
   "id": "7729b487-362e-4541-8602-84a63880490a",
   "metadata": {},
   "outputs": [],
   "source": [
    "# param start the start date to get images\n",
    "# param end the end date\n",
    "# param output_dir the folder to save the images in\n",
    "def time_lapse_wq_images(start, end, output_dir):\n",
    "    global start_date, end_date, evalscript_wq, request_wq\n",
    "    dates = pd.date_range(start, end).tolist()\n",
    "    for date in dates:\n",
    "        d = str(date).split(' ')[0]\n",
    "        start_date, end_date = d, d\n",
    "        \n",
    "        evalscript_wq = \"\"\"\n",
    "            //VERSION=3\n",
    "            function setup() {\n",
    "                return {\n",
    "                    input: [{\n",
    "                        bands: [\"B05\", \"dataMask\"]\n",
    "                    }],\n",
    "                    output: {\n",
    "                        bands: 1\n",
    "                    },\n",
    "                    mosaicking: \"SIMPLE\"\n",
    "                };\n",
    "            }\n",
    "\n",
    "            function evaluatePixel(sample) {\n",
    "                return [sample.dataMask*0.5*sample.B05];\n",
    "            }\n",
    "        \"\"\"\n",
    "\n",
    "        request_wq = SentinelHubRequest(\n",
    "            #data_folder='test_dir', # where to save the tiff files\n",
    "            evalscript=evalscript_wq,\n",
    "            input_data=[\n",
    "                SentinelHubRequest.input_data(\n",
    "                    data_collection=DataCollection.SENTINEL3_OLCI, # https://docs.sentinel-hub.com/api/latest/data/sentinel-3-olci-l1b/\n",
    "                    time_interval=(start_date, end_date),\n",
    "                )\n",
    "            ],\n",
    "            responses=[\n",
    "                SentinelHubRequest.output_response('default', MimeType.TIFF)#MimeType.PNG and others work, see API\n",
    "            ],\n",
    "            bbox=betsiboka_bbox,\n",
    "            size=betsiboka_size,\n",
    "            config=config\n",
    "        )\n",
    "        \n",
    "        # update these as relevant to the location/save location\n",
    "        save_name = output_dir+'/wq_map'+d+'.tiff'\n",
    "        img_title =  region_name + ' ' + d# This needs to be updated for the location\n",
    "        generate_wq_tiffs(save_name, img_title, request_wq)"
   ]
  },
  {
   "cell_type": "code",
   "execution_count": 10,
   "id": "8fb2503d-1c42-4dcc-9a4a-ed49f49b4926",
   "metadata": {},
   "outputs": [
    {
     "name": "stderr",
     "output_type": "stream",
     "text": [
      "<ipython-input-4-6c6094c77e1c>:8: RuntimeWarning: More than 20 figures have been opened. Figures created through the pyplot interface (`matplotlib.pyplot.figure`) are retained until explicitly closed and may consume too much memory. (To control this warning, see the rcParam `figure.max_open_warning`).\n",
      "  fig, ax = plt.subplots(nrows=1, ncols=1, figsize=(15, 15))\n"
     ]
    }
   ],
   "source": [
    "time_lapse_wq_images(start_images, end_images,image_output_dir)"
   ]
  },
  {
   "cell_type": "code",
   "execution_count": null,
   "id": "b75578c0-43f3-4820-8f10-aad6c5d6fadb",
   "metadata": {},
   "outputs": [],
   "source": []
  }
 ],
 "metadata": {
  "kernelspec": {
   "display_name": "EDC 0.24.5 (Python3)",
   "language": "python",
   "name": "edc"
  },
  "language_info": {
   "codemirror_mode": {
    "name": "ipython",
    "version": 3
   },
   "file_extension": ".py",
   "mimetype": "text/x-python",
   "name": "python",
   "nbconvert_exporter": "python",
   "pygments_lexer": "ipython3",
   "version": "3.8.10"
  }
 },
 "nbformat": 4,
 "nbformat_minor": 5
}
